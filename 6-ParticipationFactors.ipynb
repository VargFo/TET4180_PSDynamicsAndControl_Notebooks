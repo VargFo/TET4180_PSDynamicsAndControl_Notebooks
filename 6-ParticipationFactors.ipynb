{
 "cells": [
  {
   "cell_type": "markdown",
   "metadata": {},
   "source": [
    "## Participation factors\n",
    "\n",
    "We remember the equations\n",
    "$$\n",
    "x = W z \n",
    "$$\n",
    "$$\n",
    "x_k = \\sum_{i=1}^{n} w_{ki} z_i (t) = \\ldots + w_{ki} z_{i0} e^{\\lambda_i t} +  \\ldots\n",
    "$$\n",
    "where $w_{ki}$ are the mode shapes and say something about how visible the particular mode $z_i$ will be on state variable $x_k$. \n",
    "\n",
    "Note that $c_{ki} = w_{ki} z_{i0}$ depends on the initial conditions $z_{i0}$ of a given modal variable $z_i(t)$. If this modal variable has zero initial conditions, then obviously $c_{ki} = 0$ and the mode has no influence on the value of $x_k(t)$. \n",
    "\n",
    "A mode or a modal variable $z_i(t)$ is said to be excited if $c_{ki} \\neq 0$. The equation shows that the trajectory of $x_k(t)$ is influenced only by the excited modes or excited modal variables. \n",
    "\n",
    "Those modes or modal variables that have the largest values of $c_{ki}$ are said to be **dominant modes** or **dominant modal variables**.\n",
    "\n",
    "\n",
    "The same goes for \n",
    "$$\n",
    "z = W^{-1} x = Ux\n",
    "$$\n",
    "\n",
    "$$\n",
    "z_i (t) = \\sum_{j=1}^{n} u_{ij} x_j (t) \n",
    "$$ \n",
    "\n",
    "where U is the left eigenvector matrix. This matrix says something about the controlability of the mode, in other words: $u_{ij}$ determines the **magnitude and phase** of the share of a given variable $x_j(t)$ in the activity of a given mode $z_i(t)$. \n",
    "\n",
    "Controlling $x_j(t)$ influences a given modal variable $z_i(t)$ **only if** element $u_{ij}$ is large.\n",
    "\n",
    "To summarize: Element $w_{ki}$ contains information about the **observability** of the $i$-th modal variable in the $k$-th state variable, while $u_{ik}$ contains information about the **controllability** of the $i$-th modal variable using the $k$-th state variable. Hence, the product $p_{ki} = u_{ik} w_{ki}$ contains information about **both observability and controllability**. \n",
    "\n",
    "\n",
    "Coefficients $p_{ki} = u_{ik} w_{ki}$ are referred to as the **participation factors**. Each participation factor is a product of the **$k$-th element of the $i$-th left and right eigenvectors**. It quantifies the **sensitivity** of the $i$-th eigenvalue to the $k$-th diagonal element of the state matrix. \n",
    "\n",
    "\n",
    "Consequently, the participation factor $p_{ki} = u_{ik} w_{ki}$ is a good measure of **correlation** between the $i$-th modal variable and the $k$-th state variable. \n",
    "\n",
    "Participation factors can be used to determine the **sitting** of devices for **enhancing system stability**. Generally, a **damping controller** or a **stabilizer** is preferably placed where the **modal variables associated with a given eigenvalue are both well observable and well controllable**.\n",
    "\n",
    "## Let us now look at an example in how participation factors work:"
   ]
  },
  {
   "cell_type": "code",
   "execution_count": 1,
   "metadata": {},
   "outputs": [
    {
     "data": {
      "application/vnd.jupyter.widget-view+json": {
       "model_id": "ba33b69b7c244926ace47b75445eec7b",
       "version_major": 2,
       "version_minor": 0
      },
      "text/plain": [
       "interactive(children=(FloatSlider(value=1.0, description='D', max=10.0, min=-10.0), FloatSlider(value=1.0, des…"
      ]
     },
     "metadata": {},
     "output_type": "display_data"
    },
    {
     "data": {
      "text/plain": [
       "<function __main__.plot_eigenvalues(D, H, f_N, K_E_t)>"
      ]
     },
     "execution_count": 1,
     "metadata": {},
     "output_type": "execute_result"
    }
   ],
   "source": [
    "import matplotlib.pyplot as plt\n",
    "import numpy as np\n",
    "from ipywidgets import interact, FloatText, HBox, VBox\n",
    "from ipywidgets import interact, FloatSlider\n",
    "from IPython.display import Image, display\n",
    "\n",
    "def compute_eigenvalues(D, H, f_N, K_E_t):\n",
    "    A = np.array([[0, 2 * np.pi * f_N],\n",
    "                  [-K_E_t / (2 * H), -D / (2 * H)]])\n",
    "    eigenvalues = np.linalg.eigvals(A)\n",
    "    return eigenvalues[0], eigenvalues[1]\n",
    "\n",
    "def plot_eigenvalues(D, H, f_N, K_E_t):\n",
    "    lambda1, lambda2 = compute_eigenvalues(D, H, f_N, K_E_t)\n",
    "    \n",
    "    plt.figure(figsize=(6, 6))\n",
    "    plt.axhline(0, color='black', linestyle='-', linewidth=2)\n",
    "    plt.axvline(0, color='black', linestyle='-', linewidth=2)\n",
    "    plt.xlim(-5, 5)\n",
    "    plt.ylim(-5, 5)\n",
    "    \n",
    "    if isinstance(lambda1, complex):\n",
    "        plt.scatter([lambda1.real, lambda2.real], [lambda1.imag, lambda2.imag], color='red', label='Eigenvalues')\n",
    "    else:\n",
    "        plt.scatter([lambda1, lambda2], [0, 0], color='red', label='Eigenvalues')\n",
    "    \n",
    "    plt.xlabel('Real Part')\n",
    "    plt.ylabel('Imaginary Part')\n",
    "    plt.title('Eigenvalues of Matrix A')\n",
    "    plt.legend()\n",
    "    plt.grid(True)\n",
    "    plt.show(block=False)\n",
    "\n",
    "# Interactive sliders\n",
    "interact(plot_eigenvalues, \n",
    "         D=FloatSlider(min=-10, max=10, step=0.1, value=1, description='D'),\n",
    "         H=FloatSlider(min=-10, max=10, step=0.1, value=1, description='H'),\n",
    "         f_N=FloatSlider(min=0.1, max=10, step=0.1, value=1, description='f_N'),\n",
    "         K_E_t=FloatSlider(min=0.1, max=10, step=0.1, value=1, description='K_E_t'))"
   ]
  }
 ],
 "metadata": {
  "kernelspec": {
   "display_name": ".venv",
   "language": "python",
   "name": "python3"
  },
  "language_info": {
   "codemirror_mode": {
    "name": "ipython",
    "version": 3
   },
   "file_extension": ".py",
   "mimetype": "text/x-python",
   "name": "python",
   "nbconvert_exporter": "python",
   "pygments_lexer": "ipython3",
   "version": "3.11.5"
  }
 },
 "nbformat": 4,
 "nbformat_minor": 2
}
