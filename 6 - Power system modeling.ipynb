{
 "cells": [
  {
   "cell_type": "markdown",
   "metadata": {},
   "source": [
    "## Power system modeling ##\n"
   ]
  },
  {
   "cell_type": "markdown",
   "metadata": {},
   "source": [
    "The main motivation behind this notebook is to give an introduction to how the power system is modeled in TOPS. Further, gaining experiance with building your own models can greatly contribute to understanding how power system elements interacts with the power system. This notebook first present the modelling approach utilized in TOPS. Then, a recipe for building a your own model is presented. "
   ]
  },
  {
   "cell_type": "markdown",
   "metadata": {},
   "source": [
    "### 🖥️ Core modeling approach\n",
    "When the aim is on analyze electro-mechanical and control dynamics in power systems, it is common to represent the ac variables (such as voltage and current) as phasors. This method is often reffered to RMS-models or average models. RMS-models holds an advantage over their counterpart electromagnetic transient (EMT) models in being more computational efficient whilst still maintaining sufficient accuracy. EMT models are used when analyzing much faster dynamics at smaller timescale. The two images below shows the difference between EMT and RMS-models on how a short-circuit response might look like.\n",
    "\n",
    "\n",
    "<div style=\"display: flex; justify-content: space-between; align-items: center;\">\n",
    "    <figure style=\"width: 45%; text-align: center;\">\n",
    "        <img src=\"Figures/emt_ex.png\" alt=\"Electromagnetic Transient (EMT) Model\" style=\"max-width: 100%;\">\n",
    "        <figcaption>Electromagnetic Transient (EMT) Model</figcaption>\n",
    "    </figure>\n",
    "    <figure style=\"width: 45%; text-align: center;\">\n",
    "        <img src=\"Figures/rms_ex.png\" alt=\"RMS Model\" style=\"max-width: 100%;\">\n",
    "        <figcaption>RMS Model</figcaption>\n",
    "    </figure>\n",
    "</div>\n",
    "\n",
    "\n",
    "\n",
    "The power system in RMS-models is represented as a set of differential-algebraic equations (DAEs) written in the form:\n",
    "\n",
    "$$ \\dot{x} = f(x, v) $$\n",
    "\n",
    "$$ 0 = g(x, v) $$\n",
    "\n",
    "Differential equations $f$ describe the dynamic behavior of elements such as generators and controllers. The algebraic equations $g$ represent the relationship between node voltages $v$ and current injections in the power system. (In literature, $v$ is more commonly denoted as $y$). We will come back to this relationship later.\n",
    "\n",
    "The main problem that needs to be solved by the simulator is integrating the differential equations whilst at the same time ensuring that the algebraic equations remain satisfied. In order to achieve this, the set of DAEs must be converted to a set of ordinary differential equations (ODEs):\n",
    "\n",
    "The set of algebraic equations is linear and can be written as:\n",
    "$$ Y \\cdot V = I_{inj(x)} $$\n",
    "\n",
    "where $Y$ is the admittance matrix of the system, $I_{inj(x)}$ is the vector of the bus current injections, and $V$ is the bus voltages. The vector containing the algebraic variables $V$ can be solved by rewriting the equation above:\n",
    "\n",
    "$$ v = V = Y^{-1} \\cdot I_{inj(x)} = h(x) $$\n",
    "\n",
    "In practice, the voltage vector $V$ is not solved by inverting the admittance matrix, but rather by using an algorithmic solver. The set of differential-algebraic equations can now be written as:\n",
    "\n",
    "$$ \\dot{x} = f(x, h(x)) = f(x) $$\n",
    "\n",
    "This system of ODEs can now be solved by using a suitable numerical integration method, for example the Euler or Modified-Euler method.\n",
    "\n",
    "\n",
    "\n"
   ]
  },
  {
   "cell_type": "markdown",
   "metadata": {},
   "source": [
    "<!-- ### Simulation flow chart\n",
    "\n",
    "The figure below shows a flow chart of the simulation process. During this notebook, we will explore how the different functionalities and equations are described in order to simulate a dynamic power system. -->\n",
    "\n",
    "### ⚡ Power System Simulation Flowchart\n",
    "\n",
    "The flowchart below shows the simulation process of a power system RMS-model such as TOPS. The simulation starts with an initialized power system model, including the load flow solution $\\mathbf{v_0}$ and initial states $\\mathbf{x_0}$. Once initiated, the simulation iterates over discrete time steps. The model calculates current injections $I_{\\text{inj}}$, determines node voltages $\\mathbf{V}$, and updates system states by solving the differential equations.\n",
    "\n",
    "**Important to note**; the current injections are calculated based on the dynamic states $\\mathbf{x}$ and are **independent** of the sysytem voltages. This is important to avoid alebraic loops during calculations. We will come back to how we adress this in the next section.\n",
    "\n",
    "The **results** from the simulations consist of updated values for node voltages, and dynamic states which allows us to analyze the power system elements transient behavior and system dynamics.\n",
    "\n",
    "\n",
    "\n",
    "<div style=\"text-align: center;\">\n",
    "    <img src=\"Figures/flow_chart_simulation.png\" alt=\"Flow chart of simulation\" style=\"max-width: 70%;\">\n",
    "    <figcaption>Flow chart of simulation</figcaption>\n",
    "</div>\n",
    "\n",
    "<!-- <img src=\"Figures/flow_chart_simulation.png\" width=\"800\"> -->\n"
   ]
  },
  {
   "cell_type": "markdown",
   "metadata": {},
   "source": [
    "## 🔧 Making your own model"
   ]
  },
  {
   "cell_type": "markdown",
   "metadata": {},
   "source": [
    "Now that you have gotten an introduction to how the power system simulator works, let build our own dynamic model! The third-order generator model from the lectures will be used as an example."
   ]
  },
  {
   "cell_type": "code",
   "execution_count": 14,
   "metadata": {},
   "outputs": [],
   "source": [
    "# %pip install git+https://github.com/hallvar-h/tops\n",
    "\n",
    "# Solver and dynamic models\n",
    "from tops import dynamic as dps\n",
    "from tops import solvers as dps_sol\n",
    "from tops.dyn_models.utils import DAEModel\n",
    "import numpy as np"
   ]
  },
  {
   "cell_type": "markdown",
   "metadata": {},
   "source": [
    "### 💡 Model instructions\n",
    "\n",
    "For a model to be included in TOPS simulations, there are som key functions called \"**model instructions**\" that need to be correctly impelmented. These are strongly related to the simulating technique showed in the flow chart, you are going to reckognize some of the names. First, we initiate the model and defining where our model is connected to the system:\n",
    "\n"
   ]
  },
  {
   "cell_type": "code",
   "execution_count": 15,
   "metadata": {},
   "outputs": [],
   "source": [
    "class gen3(DAEModel):\n",
    "\n",
    "    def __init__(self, *args, **kwargs):\n",
    "        super().__init__(*args, **kwargs)\n",
    "        self.bus_idx = np.array(np.zeros(self.n_units), dtype=[(key, int) for key in self.bus_ref_spec().keys()])\n",
    "        self.bus_idx_red = np.array(np.zeros(self.n_units), dtype=[(key, int) for key in self.bus_ref_spec().keys()])\n",
    "\n",
    "    def bus_ref_spec(self):\n",
    "        return {'terminal': self.par['bus']}\n",
    "    \n",
    "    # This is a standard initializing method in TOPS, I recommend that you just copy this method"
   ]
  },
  {
   "cell_type": "markdown",
   "metadata": {},
   "source": [
    "Since our model is a power source, it needs to be included in the load flow solution. This is done in TOPS by defining a function called \"**load_flow_pv**\":"
   ]
  },
  {
   "cell_type": "code",
   "execution_count": 16,
   "metadata": {},
   "outputs": [],
   "source": [
    "# The power is given in MW and the voltage in p.u.\n",
    "def load_flow_pv(self):\n",
    "    return self.bus_idx['terminal'], -self.par['P'], self.par['V']"
   ]
  },
  {
   "cell_type": "markdown",
   "metadata": {},
   "source": [
    "Now that the model has been included in the power flow solution, we can use this information to calculate the initial states of our model. This is done by defining a function called \"**init_from_load_flow**\". The calculations are similar to what you have been doing in the course assignments. I have added the phasor diagram below the help keep track of what calculations are being done."
   ]
  },
  {
   "cell_type": "code",
   "execution_count": 17,
   "metadata": {},
   "outputs": [],
   "source": [
    "def init_from_load_flow(self, x_0, v_0, S):\n",
    "    X_0 = self.local_view(x_0)\n",
    "    p = self.par\n",
    "\n",
    "    # From the power flow solution, define the per unit apperant power\n",
    "    s_pu = S/p['S_n']\n",
    "\n",
    "    # Define the generator terminal voltage and current\n",
    "    v_g = v_0[self.bus_idx['terminal']]\n",
    "    I_g = np.conj(s_pu/v_g)\n",
    "\n",
    "    # print(f\"Angle of {p[\"name\"]}  I_g: \", np.angle(I_g, deg=True))\n",
    "\n",
    "    # From the phasor diagram, E_Q can be calculated as:\n",
    "    e_q_tmp = v_g + 1j * p['X_q'] * I_g\n",
    "\n",
    "    # This allows us to find the power angle \\delta\n",
    "    # angle = delta\n",
    "    angle = np.angle(e_q_tmp)\n",
    "\n",
    "    # Here, we are applying a helpful trick. As the Q-axis is aligned with E_Q,\n",
    "    # we can use the power angle delta to rotate the qd axis to align with the real and imaginary axis\n",
    "    # Meaning, by rotating the voltage and current, we can decompose them into the qd frame by using the real and imaginary part\n",
    "\n",
    "    # = e^(-j * delta)\n",
    "    expdelta = np.exp(-1j * angle)\n",
    "\n",
    "    # Now we rotate the voltage and current with the power angle delta\n",
    "    # We are in practice subtracting the power angle from the angle of the voltage and current\n",
    "\n",
    "    iqd = I_g * expdelta\n",
    "    vqd = v_g * expdelta\n",
    "\n",
    "    # Now we can decompose the voltage and current into the qd frame by using the real and imaginary part\n",
    "    # Note! They are no longer phasors, but decomposed values expressed in the qd frame\n",
    "    id = iqd.imag\n",
    "    iq = iqd.real\n",
    "    v_g_q = vqd.real\n",
    "\n",
    "    # Now we can calculate the initial values for the generator model\n",
    "    # Take your time looking at the phasor diagram and see if you can follow the calculations\n",
    "    eqt_0 = v_g_q - p['X_d_t'] * id\n",
    "    e_q_0 = v_g_q + p['X_d'] * id\n",
    "    \n",
    "    # Set the initial values of inputs needed from other models (we will come back to these later)\n",
    "    self._input_values['P_m'] = s_pu.real\n",
    "    self._input_values['E_f'] = e_q_0\n",
    "\n",
    "    # Set the initial values of our three states :)\n",
    "    X_0['speed'][:] = 0\n",
    "    X_0['angle'][:] = angle\n",
    "    X_0['e_q_t'][:] = eqt_0"
   ]
  },
  {
   "cell_type": "markdown",
   "metadata": {},
   "source": [
    "<div style=\"text-align: center;\">\n",
    "    <img src=\"Figures/phasor_diagram_ss.png\" alt=\"Phasor diagram steady-state\" style=\"max-width: 80%;\">\n",
    "    <figcaption>Phasor diagram steady-state</figcaption>\n",
    "</div>"
   ]
  },
  {
   "cell_type": "markdown",
   "metadata": {},
   "source": [
    "Now that we have established the initial states of the model, lets take a look at the dynamics and consequently the differential equations that define the transient behavior of our model. We start by taking a look at something you are familiar with, the block diagram:\n",
    "\n",
    "\n",
    "<div style=\"text-align: center;\">\n",
    "    <img src=\"Figures/3rd_order_slide.png\" alt=\"Third-Order Generator Model\" style=\"max-width: 70%;\">\n",
    "    <figcaption>Third-Order Generator Model</figcaption>\n",
    "</div>\n",
    "\n",
    "From this model diagram, we can find our three states :\n",
    "\n",
    "$$ x = \\begin{bmatrix}\n",
    "\\Delta~E^{'}_{q}\\\\\n",
    "\\Delta~\\delta\\\\\n",
    "\\Delta~\\omega\\\\\n",
    "\n",
    "\\end{bmatrix} $$\n",
    "\n",
    "\n",
    "Our goal is now to write differential equations describing the dynamic behavior of the states. Lets start with $\\Delta~\\omega$, from the block diagram we can write:\n",
    "\n",
    "$$(\\Delta~\\tau_{m} - \\Delta~\\tau_{e} - D \\cdot \\Delta~\\omega) \\cdot \\frac{1}{2Hs} = \\Delta~\\omega  $$\n",
    "\n",
    "We are looking the differential equation $ \\Delta~\\dot{\\omega} $ = ... So lets rearange the equation and notice the laplace operator $\\Delta~x \\cdot s = \\Delta~\\dot{x}$:\n",
    "\n",
    "\n",
    "$$ \\Delta\\dot{\\omega} = (1/2H) \\cdot (\\Delta~\\tau_{m} - \\Delta~\\tau_{e} - D \\cdot \\Delta~\\omega)  $$\n",
    "\n",
    "\n",
    "\n",
    "Applying the same method to the rest of the model and we have <span style=\"color:lightblue\">three</span> differential equations describing the dynamic behaviour of our <span style=\"color:lightblue\">three</span> states:\n",
    "\n",
    "\n",
    "$$ \\dot{x} = f(x) $$\n",
    "\n",
    "$$ \\Delta~\\dot{x} = \\begin{bmatrix}\n",
    "\\Delta~\\dot{E^{'}_{q}}\\\\\n",
    "\\Delta~\\dot{\\delta}\\\\\n",
    "\\Delta~\\dot{\\omega}\\\\\n",
    "\\end{bmatrix} = \\begin{bmatrix}\n",
    "(1/T'_{do}) \\cdot (E_{fd} - E^{'}_{q} - (X_{d} - X^{'}_{d}) \\cdot i_{d})\\\\\n",
    "\\Delta~\\omega \\cdot 2\\pi f_{0}\\\\\n",
    "(1/2H) \\cdot (\\Delta~\\tau_{m} - \\Delta~\\tau_{e} - D \\cdot \\Delta~\\omega)\n",
    "\\end{bmatrix} $$\n",
    "\n",
    "\n"
   ]
  },
  {
   "cell_type": "markdown",
   "metadata": {},
   "source": [
    "The diffenerential equations are defined in TOPS via the \"**state_derivatives**\" function together with the \"**state_list**\" :"
   ]
  },
  {
   "cell_type": "code",
   "execution_count": 18,
   "metadata": {},
   "outputs": [],
   "source": [
    "def state_list(self):\n",
    "    return ['speed', 'angle', 'e_q_t']\n",
    "\n",
    "def state_derivatives(self, dx, x, v):\n",
    "    dX = self.local_view(dx)\n",
    "    X = self.local_view(x)\n",
    "    p = self.par\n",
    "\n",
    "    p_e = self.p_e(x, v)\n",
    "\n",
    "    dX['speed'][:] = (1 / (2 * p[\"H\"])) * (self.P_m(x,v)/(1+X[\"speed\"]) - p_e/(1+X[\"speed\"]) - p['D']*X['speed'])\n",
    "    dX['angle'][:] = X['speed'] * 2 * np.pi * self.sys_par['f_n']\n",
    "    dX['e_q_t'][:] = (1 /p['T_d0_t']) * (self.E_f(x, v) - X['e_q_t'] + self.i_d(x, v) * (p['X_d'] - p['X_d_t']))"
   ]
  },
  {
   "cell_type": "markdown",
   "metadata": {},
   "source": [
    "Notice that our model is dependent on inputs not defined within the class itself. These are inputs from external models such as the automatic voltage regulator (AVR) and turbine governor (GOV). To fascilitate this, we define an input list as shown:"
   ]
  },
  {
   "cell_type": "code",
   "execution_count": 19,
   "metadata": {},
   "outputs": [],
   "source": [
    "def input_list(self):\n",
    "    return ['E_f', 'v_aux', 'v_pss', \"P_m\"]\n",
    "\n",
    "def int_par_list(self):\n",
    "    return ['f']"
   ]
  },
  {
   "cell_type": "markdown",
   "metadata": {},
   "source": [
    "Next, we need to add the generator admaittance to the diagonal element of the system admittance matrix. This is done by defining the instruction function \"**dyn_const_adm**\". For the third-order model, the generator is modeled as a transient d-axis reactance behind a q-axis transient induced voltage."
   ]
  },
  {
   "cell_type": "code",
   "execution_count": 20,
   "metadata": {},
   "outputs": [],
   "source": [
    "def dyn_const_adm(self):\n",
    "    idx_bus = self.bus_idx['terminal']\n",
    "    bus_v_n = self.sys_par['bus_v_n'][idx_bus]\n",
    "    z_n = bus_v_n ** 2 / self.sys_par['s_n']\n",
    "\n",
    "    impedance_pu_gen = 1j * self.par['X_d_t']\n",
    "    impedance = impedance_pu_gen * self.par['V_n'] ** 2 / self.par['S_n'] / z_n\n",
    "\n",
    "    Y = 1 / impedance\n",
    "    return Y, (idx_bus,)*2"
   ]
  },
  {
   "cell_type": "markdown",
   "metadata": {},
   "source": [
    "Now, lets define an important function ; \"**current_injections**\" . As shown above, TOPS uses current injections to calculate the node voltages of the system. Every power source of the system must therefore contain a current injection function in order to supply (or consume) power. Further, the calculation of the current injection cannot include the node voltage, that would cause an algebraic loop. We must therefore transform our model from a voltage source behind a reactance, to a current source in parrallel with the same reactance. This is known as a Norton-transform, you may reckognize this from electric circuit analysis courses. "
   ]
  },
  {
   "cell_type": "markdown",
   "metadata": {},
   "source": [
    "<div style=\"text-align: center;\">\n",
    "    <img src=\"Figures/current_injections.png\" alt=\"Norton transformation - current injection\" style=\"max-width: 80%;\">\n",
    "    <figcaption>Norton transformation - current injection</figcaption>\n",
    "</div>"
   ]
  },
  {
   "cell_type": "code",
   "execution_count": 21,
   "metadata": {},
   "outputs": [],
   "source": [
    "def current_injections(self, x, v):\n",
    "    p = self.par\n",
    "    X = self.local_view(x)\n",
    "\n",
    "    i_inj = (X[\"e_q_t\"]*np.exp(1j*X[\"angle\"]))/(1j * p[\"X_d_t\"]) \n",
    "\n",
    "    I_n = p['S_n'] / (np.sqrt(3) * p['V_n'])\n",
    "\n",
    "    i_n = self.sys_par['s_n']/(np.sqrt(3) * self.sys_par['bus_v_n'])\n",
    "\n",
    "    # System p.u. base\n",
    "    I_inj = i_inj*I_n/i_n[self.bus_idx_red['terminal']]\n",
    "\n",
    "    return self.bus_idx_red['terminal'], I_inj"
   ]
  },
  {
   "cell_type": "markdown",
   "metadata": {},
   "source": [
    "Lastly, it is usefull to define some utility functions to make the functions above easier to read and maintain."
   ]
  },
  {
   "cell_type": "code",
   "execution_count": 22,
   "metadata": {},
   "outputs": [],
   "source": [
    "\n",
    "# Utility functions\n",
    "def v_t(self, x, v):\n",
    "    return v[self.bus_idx_red['terminal']]\n",
    "\n",
    "def v_t_abs(self, x, v):\n",
    "    return np.abs(v[self.bus_idx_red['terminal']])\n",
    "\n",
    "def v_setp(self, x, v):\n",
    "    return self.par['V']\n",
    "\n",
    "def e_q_t(self, x, v):\n",
    "    return self.local_view(x)['e_q_t']\n",
    "\n",
    "def angle(self, x, v):\n",
    "    return self.local_view(x)['angle']\n",
    "\n",
    "def speed(self, x, v):\n",
    "    return self.local_view(x)['speed']\n",
    "\n",
    "def i(self, x, v):\n",
    "    X = self.local_view(x)\n",
    "    return (self.e_q_t(x,v)*np.exp(1j*X[\"angle\"]) - self.v_t(x, v)) / (1j*self.par[\"X_d_t\"])\n",
    "\n",
    "def idq(self, x, v):\n",
    "    X = self.local_view(x)\n",
    "    return self.i(x,v)*np.exp(-1j*X[\"angle\"])\n",
    "\n",
    "def i_d(self, x, v):\n",
    "    return self.idq(x, v).imag\n",
    "\n",
    "def i_q(self, x, v):\n",
    "    return self.idq(x, v).real\n",
    "\n",
    "def s_e(self, x, v):\n",
    "    return self.v_t(x, v)*np.conj(self.i(x, v))\n",
    "\n",
    "def p_e(self, x, v):\n",
    "    return self.s_e(x, v).real\n",
    "\n",
    "def q_e(self, x, v):\n",
    "    return self.s_e(x, v).imag\n",
    "\n",
    "def p_m(self, x, v):\n",
    "    return self.P_m(x,v)"
   ]
  },
  {
   "cell_type": "markdown",
   "metadata": {},
   "source": [
    "### References\n",
    "\n",
    "Machowski, Jan, et al. \"Power system dynamics.\" John Wiley & Sons, 3rd edition, 2020."
   ]
  }
 ],
 "metadata": {
  "kernelspec": {
   "display_name": "Python 3",
   "language": "python",
   "name": "python3"
  },
  "language_info": {
   "codemirror_mode": {
    "name": "ipython",
    "version": 3
   },
   "file_extension": ".py",
   "mimetype": "text/x-python",
   "name": "python",
   "nbconvert_exporter": "python",
   "pygments_lexer": "ipython3",
   "version": "3.12.5"
  }
 },
 "nbformat": 4,
 "nbformat_minor": 2
}
