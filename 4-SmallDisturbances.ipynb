{
 "cells": [
  {
   "cell_type": "markdown",
   "id": "704766e9-526d-41f2-b971-1742c7060473",
   "metadata": {},
   "source": [
    "# Chapter 5: Electromechanical Dynamics | Small Disturbances\n",
    "\n",
    "#### A quick introduction the simulation of a small disturbance analysis \n",
    "\n",
    "Still a work in progress, if there is anything missing or you have some general feedback please contact Sjur Føyen at foyen.sjur@ntnu.no \n",
    "\n",
    "## Table of Contents\n",
    "\n",
    "1. [Power System Dynamics](#power-system-dynamics)\n",
    "    - [The Swing Equation](#the-swing-equation)\n",
    "    - [Equilibrium Points](#equilibrium-points)\n",
    "4. [System](#system)\n",
    "    - [System Data Definitions](#system-data-definitions)\n",
    "6. [Power-Angle Characteristic](#power-angle-characteristic)\n",
    "    - [Stability Criterion of Power-Angle Characteristic](#stability-criterion)\n",
    "8. [Linearized Small Signal Analysis](#linearized-small-signal-analysis)\n",
    "    - [State-Space Representation](#state-space-representation)\n",
    "    - [Stability Analysis using Eigenvalues](#stability-analysis-using-eigenvalues)\n",
    "    - [Root-Locus, the Effect of Variables](#root-locus-the-effect-of-variables)\n",
    "9. [Bode Plot Analysis](#bode-plot-analysis)\n",
    "    - [Adding a Governor](#adding-a-governor)\n",
    "\n",
    "Relevant Material from TET4180 Power System Stability and Control:\n",
    "1. Slides (TET4180 Power System Stability and Control | Chapter 5: Electromechanical Dynamics – Small disturbances)\n",
    "2. Power System Dynamics, Machowski   (Ch. 5.1: Swing equation | Ch. 5.3: Equilibrium points (synchronising power/torque) | Ch. 5.4: Steady state stability (Linear analysis) | Ch. 5.2: Damping power (torque) | Ch. 4.2.4.4: Rotor flux dynamics)\n",
    "3. Assignment 4: Electromechanical dynamics - small disturbances\n",
    "\n",
    "\n",
    "Code implemented by; Varg Førland. Date; 31.01.2025\n",
    "\n",
    "Last update; 11.02.2025\n",
    "\n",
    "GitHub Copilot used for assistance in coding."
   ]
  },
  {
   "cell_type": "code",
   "execution_count": 17,
   "id": "7936e50d",
   "metadata": {},
   "outputs": [
    {
     "data": {
      "text/plain": [
       "'https://jckantor.github.io/CBE30338/05.03-Creating-Bode-Plots.html'"
      ]
     },
     "execution_count": 17,
     "metadata": {},
     "output_type": "execute_result"
    }
   ],
   "source": [
    "#%pip install git+https://github.com/hallvar-h/tops\n",
    "\n",
    "import sys\n",
    "from collections import defaultdict\n",
    "import matplotlib.pyplot as plt\n",
    "import time\n",
    "import numpy as np\n",
    "from notebook_utils import getPhasorsDictionary_SmallDist\n",
    "from IPython.display import display, Math\n",
    "import control as ctrl\n",
    "\n",
    "# Control package documentation\n",
    "\"\"\"https://python-control.readthedocs.io/en/0.10.0/\"\"\"\n",
    "\n",
    "# Example used for control package:\n",
    "\"\"\"https://jckantor.github.io/CBE30338/05.03-Creating-Bode-Plots.html\"\"\"\n",
    "# requires coefficients of the numerator and denominator polynomials\n",
    "# the coefficients are given starting with the highest power of\n",
    "#from tops.ps_models import ieee39"
   ]
  },
  {
   "cell_type": "markdown",
   "id": "e78a8cca",
   "metadata": {},
   "source": [
    "# Power System Dynamics\n",
    "\n",
    "To effectively analyze the Power System it needs to be modeled, which is a balance act between retaining information while simplifying a complex system. First, we look at the swing equation and the relation between electrical and mechanical energy.\n",
    "\n",
    "---\n",
    "\n",
    "## The swing equation (chap. 5.1)\n",
    "\n",
    "The **swing equation** is a fundamental equation in power systems that describes the dynamics of a synchronous machine's rotor. It represents the balance between the mechanical and electrical torques and how they affect the machine's angular position and speed.\n",
    "\n",
    "- **Classic swing equation:**\n",
    "    $$ J \\frac{d^2\\delta}{dt^2} + D_d \\frac{d\\delta}{dt} = \\tau_m - \\tau_e $$\n",
    "    Where:\n",
    "    - $ J $: Total moment of inertia\n",
    "    - $ D_d $: Damping coefficient\n",
    "    - $ \\tau_m $: Mechanical torque\n",
    "    - $ \\tau_e $: Electromechanical torque\n",
    "    - $ \\delta $: Angle\n",
    "\n",
    "This equation is derived from Newtons second law of motion as can be seen in the lecture slides. A particulary important relation which is utlized is the relation between rotational speed, or frequency, and the angle. The rotational speed can be expressed as \n",
    "$$\n",
    "\\omega_m = \\omega_{sm} + \\Delta \\omega_m = \\omega_{sm} + \\frac{d\\delta}{dt}\n",
    "$$\n",
    "where $\\omega_sm$ is the synchronous speed, i.e. a constant $2 \\pi \\cdot 50Hz$. This also gives the relation \n",
    "$$\n",
    "\\frac{d\\omega_m}{dt} = \\frac{d^2\\delta}{dt^2}\n",
    "$$\n",
    "\n",
    "#### Alternative expressions\n",
    "\n",
    "The swing equation is commonly expressed in p.u. using power rather than torque, and inertia expressed in seconds. This version of the swing equation is expressed as\n",
    "\n",
    "$$ 2 H \\frac{d^2\\delta}{dt^2} = P_m - P_e (\\delta) - D_d \\frac{d\\delta}{dt} $$\n",
    "\n",
    "---\n",
    "\n",
    "## Equilibrium points (synchronising power/torque) (chap. 5.3)\n",
    "Section 5.1 shows that the accelerating power depends on the difference between turbine power $P_m$ and electrical air-gap power $P_e$ (minus damping power $P_D$). Mechanical power is controlled by the turbine governor, while electrical air-gap power depends on generator loading, parameters, and power angle. In this section, we consider only the steady-state model of the generator-infinite busbar system, with the infinite busbar voltage $V_s$ as the reference.\n",
    "\n",
    "In steady state, the generator is represented by a constant emf $E_q$ behind synchronous reactances $X_d$ and $X_q$. Neglecting resistances and shunt admittances, the air-gap power $P_e$ equals the power delivered to the system $P_s$ and is given by :\n",
    "$$\n",
    "P_e = P_{Eq} = \\frac{E_q V_s}{x_d} \\sin \\delta + \\frac{V_s^2}{2} (\\frac{1}{x_q} - \\frac{1}{x_d})  sin(2 \\delta)\n",
    "$$\n",
    "in a salient pole generator. $x_d = X_d + X$, $x_q = X_q + X$, and $X = X_T + X_s$ is the combined reactance of the step-up transformer and equivalent network. The angle $\\delta$ is the angle between $E_q$ and $V_s$ phasors (power angle) and the spatial angle between the generator rotor and the fictitious system generator (rotor angle). This links the swing equation with the electrical state of the generator. For constant $E_q$ and $V_s$, the power-angle characteristic $P_e = P_e(\\delta)$ allows rewriting the swing equation.\n",
    "\n",
    "If we have power with symmetry, for example in a round rotor generator where $x_d =x_q$, the expression simplifies to \n",
    "$$\n",
    "P_e = P_{Eq} = \\frac{E_q V_s}{x_d} \\sin \\delta\n",
    "$$\n",
    "\n",
    "Using these equations we can now consider the relationship between the power and power angle.\n",
    "\n",
    "Similarly we can look at the transient power-angle characteristic, formulated as \n",
    "$$\n",
    "P_e' = P_{Eq}' = \\frac{E_q' V_s}{x_d'} \\sin \\delta' + \\frac{V_s^2}{2} (\\frac{1}{x_q} - \\frac{1}{x_d'})  sin(2 \\delta')\n",
    "$$\n",
    "\n",
    "We continue with the same system as previously.\n"
   ]
  },
  {
   "cell_type": "markdown",
   "id": "4c067451",
   "metadata": {},
   "source": [
    "## System\n",
    "A power plant is connected to an infinite grid as shown in the figure below and delivers 80 MW active power and 20 Mvar reactive power to grid. The power plant has a salient-pole generator, and the relevant parameters for the generator, transformer and transmission line are given in the table below:\n",
    "\n",
    "![Figure1](Figures/System_Notebooks.png)\n",
    "\n",
    "| **Category**               | **Parameter** | **Value**  | **Comment**                                                                 |\n",
    "|----------------------------|---------------|------------|-----------------------------------------------------------------------------|\n",
    "|                            |     | |                                                                             |\n",
    "| **Generator Parameters**                          |\n",
    "|   | $H$           | 5.0 seconds |                                                                             |\n",
    "|                            | $D$           | 10.0 p.u.  | All per unit values are referred to $V_{\\text{base}} = 132 \\, \\text{kV}$ and $S_{\\text{base}} = 100 \\, \\text{MW}$ |\n",
    "|                            | $X_q$         | 0.8 p.u.   |                                                                             |\n",
    "|                            | $X_d$         | 1.0 p.u.   |                                                                             |\n",
    "|                            | $X_d'$        | 0.3 p.u.   |                                                                             |\n",
    "|                            | $T_{d0}'$     | 7.0 seconds |                                                                             |\n",
    "|                            |  \n",
    "|   **Transformer**                                                             |\n",
    "|  | $X_t$         | 0.1 p.u.   | Nominal voltages: 17/132 kV, referred to $S_{\\text{base}} = 100 \\, \\text{MW}$ |\n",
    "|                            |  \n",
    "|  **Transmission Line**                               |     | |                                                                             |\n",
    "|  | $X_l$         | 0.1 p.u.   | Referred to $V_{\\text{base}} = 132 \\, \\text{kV}$ and $S_{\\text{base}} = 100 \\, \\text{MW}$ |\n",
    "|                            |     | |                                                                             |\n",
    "\n"
   ]
  },
  {
   "cell_type": "code",
   "execution_count": 18,
   "id": "d5a5860b-15d0-44f2-aefa-80ca5d18dc02",
   "metadata": {},
   "outputs": [
    {
     "name": "stdout",
     "output_type": "stream",
     "text": [
      "From calculation / previous notebooks:\n"
     ]
    },
    {
     "data": {
      "text/latex": [
       "$\\displaystyle E_q = 1.5643 \\angle 33.69^\\circ$"
      ],
      "text/plain": [
       "<IPython.core.display.Math object>"
      ]
     },
     "metadata": {},
     "output_type": "display_data"
    },
    {
     "data": {
      "text/latex": [
       "$\\displaystyle E_q^t = 1.1371 \\angle 33.69^\\circ$"
      ],
      "text/plain": [
       "<IPython.core.display.Math object>"
      ]
     },
     "metadata": {},
     "output_type": "display_data"
    },
    {
     "data": {
      "text/latex": [
       "$\\displaystyle \\delta = 33.69^\\circ$"
      ],
      "text/plain": [
       "<IPython.core.display.Math object>"
      ]
     },
     "metadata": {},
     "output_type": "display_data"
    }
   ],
   "source": [
    "# System data Definitions:\n",
    "# Base data\n",
    "Sb = 100 # MVA\n",
    "Vb_lv = 10 # kV\n",
    "Vb_hv = 132 # kV\n",
    "# pu conversion\n",
    "Vs_kV = 132 + 0j # kV < deg\n",
    "Vs = Vs_kV / Vb_hv # pu\n",
    "P_MW = 80 # MW delivered power to network \n",
    "Q_MVAR = 20 #MVAR delivered power to network\n",
    "P = P_MW / Sb # pu\n",
    "Q = Q_MVAR / Sb # pu\n",
    "\n",
    "#Transformer data\n",
    "Xt =  0.1 # pu\n",
    "\n",
    "#Generator data\n",
    "H = 5 # s\n",
    "D = 10 # pu\n",
    "Xq = 0.8 # pu\n",
    "Xd = 1.0 # pu\n",
    "Xd_t = 0.3 # pu (_t means transient) (_st means subtransient)\n",
    "Td0_t = 7.0 # s\n",
    "\n",
    "#Line data\n",
    "Xl = 0.1 # pu\n",
    "\n",
    "xq = Xq + Xt + Xl\n",
    "xd = Xd + Xt + Xl\n",
    "xd_t = Xd_t + Xt + Xl\n",
    "\n",
    "# Function which calculates the phasors for the generator model - Same as in notebook 2\n",
    "phasors = getPhasorsDictionary_SmallDist(\n",
    "    P=P, \n",
    "    Q=Q, \n",
    "    Vs=Vs, \n",
    "    Xq=Xq, \n",
    "    Xd=Xd, \n",
    "    Xd_t=Xd_t, \n",
    "    Xt=Xt, \n",
    "    Xl=Xl\n",
    ")\n",
    "\n",
    "Eq = phasors['Eq']\n",
    "Eq_t = phasors['Eq_t']\n",
    "delta = np.angle(Eq)\n",
    "\n",
    "print(\"From calculation / previous notebooks:\")\n",
    "display(Math(r'E_q = {0:.4f} \\angle {1:.2f}^\\circ'.format(abs(Eq), np.angle(Eq)*180/np.pi)))\n",
    "display(Math(r'E_q^t = {0:.4f} \\angle {1:.2f}^\\circ'.format(abs(Eq_t), np.angle(Eq_t)*180/np.pi)))\n",
    "display(Math(r'\\delta = {0:.2f}^\\circ'.format(delta*180/np.pi)))\n"
   ]
  },
  {
   "cell_type": "code",
   "execution_count": 19,
   "id": "82d77fc5",
   "metadata": {},
   "outputs": [
    {
     "data": {
      "image/png": "[encoded data removed]",
      "text/plain": [
       "<Figure size 640x480 with 1 Axes>"
      ]
     },
     "metadata": {},
     "output_type": "display_data"
    }
   ],
   "source": [
    "P_m = 0.8  # Mechanical power in pu\n",
    "\n",
    "E_q_mag = abs(Eq)  # Constant emf behind synchronous reactance\n",
    "E_q_mag_t = abs(Eq_t)  # Constant emf behind transient reactance\n",
    "Vs_mag = abs(Vs)  # Magnitude of the stator voltage\n",
    "\n",
    "# Delta values from 0 to pi\n",
    "delta = np.linspace(0, np.pi, 1000)\n",
    "delta_deg = np.degrees(delta)\n",
    "\n",
    "# Power-angle characteristic\n",
    "P_e = (E_q_mag * Vs_mag / xd) * np.sin(delta) + Vs_mag ** 2 / 2 * (1/xq - 1/xd) * np.sin(2 * delta)\n",
    "P_et = (E_q_mag_t * Vs_mag / xd_t) * np.sin(delta) + Vs_mag ** 2 / 2 * (1/xq - 1/xd_t) * np.sin(2 * delta)\n",
    "\n",
    "# Plotting\n",
    "delta_0 = np.degrees(np.angle(Eq))  # Calculate delta_0 in degrees\n",
    "\n",
    "plt.figure()\n",
    "plt.plot(delta_deg, P_e, label='$P_e$')\n",
    "plt.plot(delta_deg, P_et, label='$P_et$')\n",
    "plt.xlabel(r'$\\delta$ (degrees)')\n",
    "plt.ylabel(r'$P_e$ (pu)')\n",
    "plt.title(r'$P-\\delta$ Characteristic')\n",
    "plt.grid(True)\n",
    "plt.axhline(y=P_m, color='r', linestyle='--', label=r'$P_m = 0.8$ pu')\n",
    "plt.axvline(x=delta_0, color='g', linestyle='--', label=r'$\\delta_0$')\n",
    "plt.legend()\n",
    "plt.show()"
   ]
  },
  {
   "cell_type": "markdown",
   "id": "76ca5d59",
   "metadata": {},
   "source": [
    "## Stability criterion $K_E$ and $K_E'$  \n",
    "\n",
    "One way to assess the small signal stability of the system is the $K_E$ criterion. This is done by linearizing and assessing the rate of change in the operating point. We formulate this as\n",
    "$$K_E = \\left.\\frac{\\partial P_E}{\\partial \\delta} \\right \\vert_{\\delta = \\delta_0}  > 0 $$\n",
    "or for the transient power-angle characteristic as\n",
    "$$K_{E'} = \\left.\\frac{\\partial P_{E'}}{\\partial \\delta'} \\right \\vert_{\\delta' = \\delta_0} > 0 $$\n",
    "This means that the change in power at the operating point must be positive for the system to be stable.\n",
    "\n",
    "\n",
    "Solving the partial derivations we get the expression\n",
    "$$\\frac{\\partial P_E}{\\partial \\delta} = \\frac{E_q V_s}{x_d} \\cos \\delta + V_s^2 (\\frac{1}{x_q} - \\frac{1}{x_d})  \\cos (2 \\delta) $$\n",
    "\n",
    "and inserting for $\\delta = \\delta_0$ to get $K_E$\n",
    "$$\n",
    "K_E = \\frac{E_q V_s}{x_d} \\cos \\delta_0 + V_s^2 (\\frac{1}{x_q} - \\frac{1}{x_d})  \\cos (2 \\delta_0)\n",
    "$$\n",
    "\n",
    "The same goes for the transient characteristic. Now lets look if our system upholds this criterion. Is the system stable? Can you change the values and see if it will still be stable?"
   ]
  },
  {
   "cell_type": "code",
   "execution_count": 20,
   "id": "fcfcd1d3",
   "metadata": {},
   "outputs": [
    {
     "name": "stdout",
     "output_type": "stream",
     "text": [
      " Expressions for K_E and K_E' are:\n"
     ]
    },
    {
     "data": {
      "text/latex": [
       "$\\displaystyle K_E = 1.304 \\cos(\\delta_0)  + 0.167 \\cos(2\\delta_0)$"
      ],
      "text/plain": [
       "<IPython.core.display.Math object>"
      ]
     },
     "metadata": {},
     "output_type": "display_data"
    },
    {
     "data": {
      "text/latex": [
       "$\\displaystyle K_E^t = 2.274 \\cos(\\delta_0) + -1.0 \\cos(2\\delta_0)$"
      ],
      "text/plain": [
       "<IPython.core.display.Math object>"
      ]
     },
     "metadata": {},
     "output_type": "display_data"
    },
    {
     "name": "stdout",
     "output_type": "stream",
     "text": [
      "Stability criterion values with initial angle 33.69 degs:\n"
     ]
    },
    {
     "data": {
      "text/latex": [
       "$\\displaystyle K_E = 1.1487$"
      ],
      "text/plain": [
       "<IPython.core.display.Math object>"
      ]
     },
     "metadata": {},
     "output_type": "display_data"
    },
    {
     "data": {
      "text/latex": [
       "$\\displaystyle K_E^t = 1.5077$"
      ],
      "text/plain": [
       "<IPython.core.display.Math object>"
      ]
     },
     "metadata": {},
     "output_type": "display_data"
    }
   ],
   "source": [
    "# Calculate K_E and K_E'\n",
    "delta_0_rad = np.angle(Eq)  # delta_0 in radians\n",
    "\n",
    "# Calculate K_E\n",
    "K_E = (E_q_mag * Vs_mag / xd) * np.cos(delta_0_rad) + Vs_mag ** 2 * (1/xq - 1/xd) * np.cos(2 * delta_0_rad)\n",
    "\n",
    "# Calculate K_E'\n",
    "K_E_t = (E_q_mag_t * Vs_mag / xd_t) * np.cos(delta_0_rad) + Vs_mag ** 2 * (1/xq - 1/xd_t) * np.cos(2 * delta_0_rad)\n",
    "\n",
    "\n",
    "print(\" Expressions for K_E and K_E' are:\")\n",
    "display(Math(rf'K_E = {round(E_q_mag * Vs_mag / xd, 3)} \\cos(\\delta_0)  + {round(Vs_mag ** 2 * (1/xq - 1/xd), 3)} \\cos(2\\delta_0)'))\n",
    "display(Math(rf'K_E^t = {round(E_q_mag_t * Vs_mag / xd_t, 3)} \\cos(\\delta_0) + {round(Vs_mag ** 2 * (1/xq - 1/xd_t), 3)} \\cos(2\\delta_0)'))\n",
    "\n",
    "print(f\"Stability criterion values with initial angle {round(delta_0,3)} degs:\")\n",
    "display(Math(r'K_E = {0:.4f}'.format(K_E)))\n",
    "display(Math(r'K_E^t = {0:.4f}'.format(K_E_t)))"
   ]
  },
  {
   "cell_type": "markdown",
   "id": "82f939b6",
   "metadata": {},
   "source": [
    "# Linearized small signal analysis\n",
    "\n",
    "There are a lot of tools for linear analysis of stability, we will look at stability criterion of the P-$\\delta$ characteristic, modal (eigenvalue) analysis and frequency response (bode). The system has a linearized model which can be seen represented in the laplace domain in the figure below\n",
    "\n",
    "<img src=\"Figures/Linearized_Plant_Model.png\" width=\"550\">\n",
    "\n",
    "## Linearised Swing Equation from the Block Diagram\n",
    "Now lets see how this linear block diagram can be recognized in the swing equation. For this analysis, we neglect the impact of the voltage regulator and rotor flux dynamics, meaning we assume that $D_\\delta = 0$ and we do not look at the voltage part of the loop (as they are decoupled). Now lets set up our linearized model for analysis.\n",
    "\n",
    "### Extracting Equations from the Block Diagram\n",
    "From the block diagram, we can derive the following equations:\n",
    "\n",
    "$$ \\delta' = \\frac{2\\pi f_N}{s} \\Delta\\omega $$\n",
    "\n",
    "$$ \\Delta\\omega = \\frac{1}{2Hs} (P_m - D\\Delta\\omega - K_E' \\delta' - D_s\\Delta E_q') $$\n",
    "\n",
    "Since $D_s = 0$, the equation simplifies to:\n",
    "\n",
    "$$ \\Delta\\omega = \\frac{1}{2Hs} P_m - \\frac{D}{2H} \\Delta\\omega - \\frac{K_E'}{2H} \\delta' $$\n",
    "\n",
    "Applying Laplace transformation ($s \\rightarrow \\frac{d}{dt}$ in time domain), we get:\n",
    "\n",
    "$$ \\dot{\\delta} = 2\\pi f_N \\Delta\\omega $$\n",
    "\n",
    "$$ \\Delta \\dot{\\omega} = - \\frac{K_E'}{2H} \\delta' - \\frac{D}{2H} \\Delta\\omega + \\frac{1}{2H} P_m $$\n",
    "\n",
    "Now lets define our variables for this example\n"
   ]
  },
  {
   "cell_type": "code",
   "execution_count": 21,
   "id": "6cb7a19f",
   "metadata": {},
   "outputs": [
    {
     "data": {
      "text/latex": [
       "$\\displaystyle H = 5.0 \\, \\text{s}$"
      ],
      "text/plain": [
       "<IPython.core.display.Math object>"
      ]
     },
     "metadata": {},
     "output_type": "display_data"
    },
    {
     "data": {
      "text/latex": [
       "$\\displaystyle D = 10.0 \\, \\text{p.u.}$"
      ],
      "text/plain": [
       "<IPython.core.display.Math object>"
      ]
     },
     "metadata": {},
     "output_type": "display_data"
    },
    {
     "data": {
      "text/latex": [
       "$\\displaystyle T_{d0}^{t} = 7.0 \\, \\text{s}$"
      ],
      "text/plain": [
       "<IPython.core.display.Math object>"
      ]
     },
     "metadata": {},
     "output_type": "display_data"
    },
    {
     "data": {
      "text/latex": [
       "$\\displaystyle f_N = 50.0 \\, \\text{Hz}$"
      ],
      "text/plain": [
       "<IPython.core.display.Math object>"
      ]
     },
     "metadata": {},
     "output_type": "display_data"
    },
    {
     "data": {
      "text/latex": [
       "$\\displaystyle \\omega_N = 314.2 \\, \\text{rad/s}$"
      ],
      "text/plain": [
       "<IPython.core.display.Math object>"
      ]
     },
     "metadata": {},
     "output_type": "display_data"
    },
    {
     "data": {
      "text/latex": [
       "$\\displaystyle K_E^{\\prime} = 1.5077$"
      ],
      "text/plain": [
       "<IPython.core.display.Math object>"
      ]
     },
     "metadata": {},
     "output_type": "display_data"
    }
   ],
   "source": [
    "# Constants\n",
    "# H, Td0' D already defined\n",
    "f_N = 50  # Hz Nominal frequency\n",
    "w_N = 2 * np.pi * f_N  # Nominal angular frequency\n",
    "\n",
    "# Display constants\n",
    "display(Math(r'H = {0:.1f} \\, \\text{{s}}'.format(H)))\n",
    "display(Math(r'D = {0:.1f} \\, \\text{{p.u.}}'.format(D)))\n",
    "display(Math(r'T_{{d0}}^{{t}} = {0:.1f} \\, \\text{{s}}'.format(Td0_t)))\n",
    "display(Math(r'f_N = {0:.1f} \\, \\text{{Hz}}'.format(f_N)))\n",
    "display(Math(r'\\omega_N = {0:.1f} \\, \\text{{rad/s}}'.format(w_N)))\n",
    "display(Math(r'K_E^{{\\prime}} = {0:.4f}'.format(K_E_t)))"
   ]
  },
  {
   "cell_type": "markdown",
   "id": "56bd5123",
   "metadata": {},
   "source": [
    "### State-Space Representation\n",
    "Defining the state and control vector:\n",
    "\n",
    "$$ x = \\begin{bmatrix} \\delta \\\\ \\Delta\\omega \\end{bmatrix}, \\quad u = P_m $$\n",
    "\n",
    "We can express the system in state-space form:\n",
    "\n",
    "$$ \\dot{x} = A x + B u $$\n",
    "\n",
    "where:\n",
    "\n",
    "$$ A = \\begin{bmatrix} 0 & 2\\pi f_N \\\\ -\\frac{K_E'}{2H} & -\\frac{D}{2H} \\end{bmatrix}, \\quad B = \\begin{bmatrix} 0 \\\\ \\frac{1}{2H} \\end{bmatrix} $$"
   ]
  },
  {
   "cell_type": "code",
   "execution_count": 22,
   "id": "5b5f59fe",
   "metadata": {},
   "outputs": [
    {
     "name": "stdout",
     "output_type": "stream",
     "text": [
      "Matrix A:\n",
      "[[ 0.0000e+00  3.1416e+02]\n",
      " [-1.5000e-01 -1.0000e+00]]\n",
      "\n",
      "Matrix B:\n",
      "[[0. ]\n",
      " [0.1]]\n"
     ]
    }
   ],
   "source": [
    "# Define the matrices A and B\n",
    "A = np.array([[0, 2 * np.pi * f_N],\n",
    "              [-K_E_t / (2 * H), -D / (2 * H)]])\n",
    "\n",
    "B = np.array([[0],\n",
    "              [1 / (2 * H)]])\n",
    "\n",
    "# Display matrices A and B\n",
    "\n",
    "print(\"Matrix A:\")\n",
    "print(np.round(A, 2))\n",
    "\n",
    "print(\"\\nMatrix B:\")\n",
    "print(np.round(B, 2))\n"
   ]
  },
  {
   "cell_type": "markdown",
   "id": "a29e0c82",
   "metadata": {},
   "source": [
    "### Stability Analysis using Eigenvalues\n",
    "Using the state-space representation, we can now assess the stability by looking at the eigenvalues, or modes, of the system. We find the eigenvalues through:\n",
    "\n",
    "$$ |\\lambda I - A| = 0 $$\n",
    "\n",
    "solved as\n",
    "\n",
    "$$ \\lambda = \\frac{-D}{4H} \\pm \\sqrt{\\left( \\frac{D}{4H} \\right)^2 - \\frac{\\pi f_N K_E'}{H} } $$\n",
    "\n",
    "The system stability depends on the real part of $\\lambda$. If the real part is negative, the system is stable; otherwise, it is unstable. We can express the eigenvalues by frequency and damping ratio through \n",
    "$$\n",
    "f = \\frac{\\text{Imag}(\\lambda)}{2\\pi}\n",
    "$$\n",
    "\n",
    "$$\n",
    "\\zeta = -\\frac{\\text{Real}(\\lambda)}{|\\lambda|}\n",
    "$$\n",
    "\n",
    "The system is stable if the real part of all eigenvalues is negative. The frequency indicates the oscillation rate, and the damping ratio indicates how quickly the oscillations decay."
   ]
  },
  {
   "cell_type": "code",
   "execution_count": 23,
   "id": "1f90f2bd",
   "metadata": {},
   "outputs": [
    {
     "name": "stdout",
     "output_type": "stream",
     "text": [
      "Eigenvalues of matrix A:\n"
     ]
    },
    {
     "data": {
      "text/latex": [
       "$\\displaystyle \\lambda_1 = -0.5000+6.8641j$"
      ],
      "text/plain": [
       "<IPython.core.display.Math object>"
      ]
     },
     "metadata": {},
     "output_type": "display_data"
    },
    {
     "data": {
      "text/latex": [
       "$\\displaystyle \\lambda_2 = -0.5000-6.8641j$"
      ],
      "text/plain": [
       "<IPython.core.display.Math object>"
      ]
     },
     "metadata": {},
     "output_type": "display_data"
    },
    {
     "name": "stdout",
     "output_type": "stream",
     "text": [
      "Frequency and Damping Ratio:\n"
     ]
    },
    {
     "data": {
      "text/latex": [
       "$\\displaystyle f_{1} = 1.0925 \\, \\text{Hz}, \\, \\zeta_{1} = 7.2651% $"
      ],
      "text/plain": [
       "<IPython.core.display.Math object>"
      ]
     },
     "metadata": {},
     "output_type": "display_data"
    },
    {
     "data": {
      "text/latex": [
       "$\\displaystyle f_{2} = -1.0925 \\, \\text{Hz}, \\, \\zeta_{2} = 7.2651% $"
      ],
      "text/plain": [
       "<IPython.core.display.Math object>"
      ]
     },
     "metadata": {},
     "output_type": "display_data"
    }
   ],
   "source": [
    "# Calculate eigenvalues\n",
    "eigenvalues = np.linalg.eigvals(A)\n",
    "\n",
    "# Print eigenvalues nicely\n",
    "print(\"Eigenvalues of matrix A:\")\n",
    "for idx, eigenvalue in enumerate(eigenvalues, start=1):\n",
    "    display(Math(rf'\\lambda_{idx} = {eigenvalue:.4f}'))\n",
    "\n",
    "# Calculate frequency in Hz and damping ratio\n",
    "damping_ratio = -eigenvalues.real / np.abs(eigenvalues)\n",
    "frequency_hz = (eigenvalues.imag) / (2 * np.pi)\n",
    "\n",
    "# Print frequency and damping ratio\n",
    "print(\"Frequency and Damping Ratio:\")\n",
    "for idx, (freq, damp) in enumerate(zip(frequency_hz, damping_ratio), start=1):\n",
    "    display(Math(rf'f_{{{idx}}} = {freq:.4f} \\, \\text{{Hz}}, \\, \\zeta_{{{idx}}} = {damp:.4%} '))\n",
    "\n"
   ]
  },
  {
   "cell_type": "markdown",
   "id": "2c66fa8c",
   "metadata": {},
   "source": [
    "## Root-Locus, the Effect of Variables\n",
    "\n",
    "An effective way to assess the stability of a power system is by examining the eigenvalues of the system's state-space representation. The root-locus method provides a graphical representation of how the eigenvalues (or poles) of a system change with variations in a particular parameter. This method is particularly useful for understanding the impact of different variables on system stability.\n",
    "\n",
    "Now lets see how different variables affect the system stability. How does the different variables affect the eigenvalues? \n",
    "\n",
    "In our case, there are only two modes. However, for larger systems, we must examine relevant modes. Electromechanical modes are defined as eigenvalues with damping below 10% and frequency in the range of 0.1-2.0 Hz. These modes are analyzed because they are associated with the stability of the system. \n",
    "\n",
    "1. Are our modes electromechanical?\n",
    "2. Which parameters have the biggest effect on the eigenvalues?\n",
    "3. Does the parameters effect damping or frequency?"
   ]
  },
  {
   "cell_type": "code",
   "execution_count": 24,
   "id": "c89c3dd5",
   "metadata": {},
   "outputs": [
    {
     "data": {
      "application/vnd.jupyter.widget-view+json": {
       "model_id": "12fc89d34b9e47bf84ea573a030282db",
       "version_major": 2,
       "version_minor": 0
      },
      "text/plain": [
       "interactive(children=(FloatSlider(value=5.0, description='H', max=10.0, min=0.1, step=0.01), FloatSlider(value…"
      ]
     },
     "metadata": {},
     "output_type": "display_data"
    },
    {
     "data": {
      "text/plain": [
       "<function notebook_utils.plot_root_locus(H, D, K_E_t, f_N)>"
      ]
     },
     "execution_count": 24,
     "metadata": {},
     "output_type": "execute_result"
    }
   ],
   "source": [
    "from ipywidgets import interact, FloatSlider\n",
    "import ipywidgets as widgets\n",
    "from notebook_utils import calculate_eigenvalues, plot_root_locus\n",
    "\n",
    "\n",
    "# Create sliders for the variables\n",
    "H_slider = FloatSlider(value=H, min=0.1, max=10.0, step=0.01, description='H')\n",
    "D_slider = FloatSlider(value=D, min=0.1, max=20.0, step=0.01, description='D')\n",
    "K_E_t_slider = FloatSlider(value=K_E_t, min=0.1, max=3.0, step=0.01, description='K_E_t')\n",
    "f_N_slider = FloatSlider(value=f_N, min=10, max=60, step=1, description='f_N')\n",
    "\n",
    "# Create the interactive plot\n",
    "interact(plot_root_locus, H=H_slider, D=D_slider, K_E_t=K_E_t_slider, f_N=f_N_slider, continuous_update=False)"
   ]
  },
  {
   "cell_type": "markdown",
   "id": "fa47710a",
   "metadata": {},
   "source": [
    "# Bode Plot Analysis - Frequency Response\n",
    "\n",
    "Bode plots are a fundamental tool in control and power system analysis used to assess the frequency response of a linear system. In the context of small-signal stability, they help visualize how the system responds to disturbances at different frequencies. The magnitude plot shows the system gain across frequencies, while the phase plot reveals phase shifts that indicate potential instability. By analyzing the gain and phase margins, we can determine how robust the system is to perturbations and how close it is to instability. This makes Bode plots particularly useful in evaluating the dynamic behavior of power system components and controllers.\n",
    "\n",
    "From the block diagram or the swing equation, we find the transfer function for the generator:\n",
    "\n",
    "$$\\Delta\\omega(s) = \\frac{1}{2Hs} \\left( P_m - K_E' \\frac{2\\pi f_N}{s} \\Delta\\omega - D \\Delta\\omega \\right)$$\n",
    "\n",
    "Rearranging:\n",
    "\n",
    "$$2Hs^2 \\Delta\\omega(s) + Ds\\Delta\\omega + 2\\pi f_N K_E' \\Delta\\omega = s P_m$$\n",
    "\n",
    "Solving for $\\Delta\\omega(s)$:\n",
    "\n",
    "$$\\Delta\\omega(s) = \\frac{s}{2Hs^2 + Ds + 2\\pi f_N K_E'} P_m$$\n",
    "\n",
    "We now plot the frequency response in a Bode Plot. \n",
    "1. Is the system stable?\n",
    "1. What are the gain and phase margins?\n"
   ]
  },
  {
   "cell_type": "code",
   "execution_count": 25,
   "id": "b02b17f8",
   "metadata": {},
   "outputs": [
    {
     "data": {
      "image/png": "[encoded data removed]",
      "text/plain": [
       "<Figure size 640x480 with 2 Axes>"
      ]
     },
     "metadata": {},
     "output_type": "display_data"
    }
   ],
   "source": [
    "H_OL = ctrl.TransferFunction([1, 0], [2*H, D, w_N*K_E_t], name='Open Loop')\n",
    "\n",
    "# Bode plot\n",
    "plt.figure()\n",
    "ctrl.bode_plot(H_OL, dB=True, display_margins=True)\n",
    "plt.show()"
   ]
  },
  {
   "cell_type": "markdown",
   "id": "e395a307",
   "metadata": {},
   "source": [
    "## Adding a Governor \n",
    "We now want to add a governor block in our system. The block consists of a Governor gain $K_{gov}$ and a filter with the time constant $T_w$, with a transferfunction of \n",
    "$$\n",
    "H_{GOV} = K_{gov} \\cdot \\frac{1-T_w s}{1 + 0.5 T_w s}\n",
    "$$\n",
    "and our new open loop transfer function becomes\n",
    "$$\n",
    "H_{OL,gov} = K_{gov} \\cdot \\frac{1-T_w s}{1 + 0.5 T_w s} \\cdot \\frac{s}{2Hs^2 + Ds + 2\\pi f_N K_E'}\n",
    "$$\n",
    "\n",
    "Usual values are:\n",
    "- $K_{gov} = 25$\n",
    "- $T_{w} = 1$\n",
    "\n",
    "1. Is the system stable now? \n",
    "2. How can we tune the controller to have a sufficient gain and phase margin?\n",
    "3. Can you add our block in the eigenvalue calculations and see how it effects the system?\n"
   ]
  },
  {
   "cell_type": "code",
   "execution_count": 26,
   "id": "b67748d4",
   "metadata": {},
   "outputs": [
    {
     "data": {
      "application/vnd.jupyter.widget-view+json": {
       "model_id": "68e3c810b79a433e8a5242c2e399908f",
       "version_major": 2,
       "version_minor": 0
      },
      "text/plain": [
       "interactive(children=(FloatSlider(value=1.0, description='Tw', max=10.0, min=0.05, step=0.05), FloatSlider(val…"
      ]
     },
     "metadata": {},
     "output_type": "display_data"
    },
    {
     "data": {
      "text/plain": [
       "<function notebook_utils.update_plots_small_signal(Tw, Kgov, H, D, w_N, K_E_t)>"
      ]
     },
     "execution_count": 26,
     "metadata": {},
     "output_type": "execute_result"
    }
   ],
   "source": [
    "from ipywidgets import fixed\n",
    "from notebook_utils import update_plots_small_signal\n",
    "\n",
    "\n",
    "\n",
    "# Create sliders for Tw and Kgov\n",
    "Tw_slider = FloatSlider(value=1, min=0.05, max=10.0, step=0.05, description='Tw')\n",
    "Kgov_slider = FloatSlider(value=25, min=0.1, max=100, step=0.1, description='Kgov')\n",
    "\n",
    "# Interactive plot\n",
    "interact(update_plots_small_signal, Tw=Tw_slider, Kgov=Kgov_slider, H=fixed(H), D=fixed(D), w_N=fixed(w_N), K_E_t=fixed(K_E_t), continuous_update=False)\n"
   ]
  }
 ],
 "metadata": {
  "kernelspec": {
   "display_name": ".venv",
   "language": "python",
   "name": "python3"
  },
  "language_info": {
   "codemirror_mode": {
    "name": "ipython",
    "version": 3
   },
   "file_extension": ".py",
   "mimetype": "text/x-python",
   "name": "python",
   "nbconvert_exporter": "python",
   "pygments_lexer": "ipython3",
   "version": "3.12.2"
  }
 },
 "nbformat": 4,
 "nbformat_minor": 5
}
