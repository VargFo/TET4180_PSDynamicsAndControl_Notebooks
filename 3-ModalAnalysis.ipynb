{
 "cells": [
  {
   "cell_type": "markdown",
   "id": "704766e9-526d-41f2-b971-1742c7060473",
   "metadata": {},
   "source": [
    "# Modal Analysis\n",
    "\n",
    "#### A quick introduction modal analysis, modes, modeshapes and participation factors\n",
    "\n",
    "Still a work in progress, if there is anything missing or you have some general feedback please contact Sjur Føyen at foyen.sjur@ntnu.no \n",
    "\n",
    "## Table of Contents (ting sjur sa)\n",
    "\n",
    "1. Ligninger med participation factors fra statspace\n",
    "2. forklaring på modes of mode shpes egenvektorer\n",
    "3. feks i Kundur, coherent and noncoherent (local interarea) funker kun med sammenlignbare ting elns\n",
    "4. Participation for systemstudier\n",
    "\n",
    "\n",
    "Relevant Material from TET4180 Power System Stability and Control:\n",
    "1. Slides\n",
    "2. Bok\n",
    "3. Participation elns\n",
    "\n",
    "\n",
    "Code implemented by; Ingrid Wiig Arnesen.\n",
    "\n",
    "Last update; ???"
   ]
  },
  {
   "cell_type": "code",
   "id": "7936e50d",
   "metadata": {
    "ExecuteTime": {
     "end_time": "2025-02-17T12:25:35.423457Z",
     "start_time": "2025-02-17T12:25:35.415467Z"
    }
   },
   "source": [
    "# If you get a package error, uncomment and run the following lines:\n",
    "# %pip install control\n",
    "# %pip install IPython.display\n",
    "# %pip install numpy\n",
    "# %pip install matplotlib\n",
    "# %pip install ipywidgets\n",
    "\n",
    "import matplotlib.pyplot as plt\n",
    "import numpy as np\n",
    "#from notebook_utils import getPhasorsDictionary_SmallDist\n",
    "#from IPython.display import display, Math\n",
    "#import control as ctrl\n"
   ],
   "outputs": [],
   "execution_count": 4
  },
  {
   "metadata": {},
   "cell_type": "markdown",
   "source": [
    "# Eigenvalues blbla\n",
    "\n",
    "Bare fra small signal fjern ting og skriv bare eksempel\n",
    "\n",
    "There are a lot of tools for linear analysis of stability, we will look at stability criterion of the P-$\\delta$ characteristic, modal (eigenvalue) analysis and frequency response (bode). The system has a linearized model which can be seen represented in the laplace domain in the figure below\n",
    "\n",
    "<img src=\"Figures/Linearized_Plant_Model.png\" width=\"550\">\n",
    "\n",
    "## Linearised Swing Equation from the Block Diagram\n",
    "Now lets see how this linear block diagram can be recognized in the swing equation. For this analysis, we neglect the impact of the voltage regulator and rotor flux dynamics, meaning we assume that $D_\\delta = 0$ and we do not look at the voltage part of the loop (as they are decoupled). Now lets set up our linearized model for analysis.\n",
    "\n",
    "### Extracting Equations from the Block Diagram\n",
    "From the block diagram, we can derive the following equations:\n",
    "\n",
    "$$ \\delta' = \\frac{2\\pi f_N}{s} \\Delta\\omega $$\n",
    "\n",
    "$$ \\Delta\\omega = \\frac{1}{2Hs} (P_m - D\\Delta\\omega - K_E' \\delta' - D_s\\Delta E_q') $$\n",
    "\n",
    "Since $D_s = 0$, the equation simplifies to:\n",
    "\n",
    "$$ \\Delta\\omega = \\frac{1}{2Hs} P_m - \\frac{D}{2H} \\Delta\\omega - \\frac{K_E'}{2H} \\delta' $$\n",
    "\n",
    "Applying Laplace transformation ($s \\rightarrow \\frac{d}{dt}$ in time domain), we get:\n",
    "\n",
    "$$ \\dot{\\delta} = 2\\pi f_N \\Delta\\omega $$\n",
    "\n",
    "$$ \\Delta \\dot{\\omega} = - \\frac{K_E'}{2H} \\delta' - \\frac{D}{2H} \\Delta\\omega + \\frac{1}{2H} P_m $$"
   ],
   "id": "b0d4ef9cb9f41867"
  },
  {
   "metadata": {},
   "cell_type": "markdown",
   "source": [
    "### Stability Analysis using Eigenvalues\n",
    "Using the state-space representation, we can now assess the stability by looking at the eigenvalues, or modes, of the system. We find the eigenvalues through:\n",
    "\n",
    "$$ |\\lambda I - A| = 0 $$\n",
    "\n",
    "solved as\n",
    "\n",
    "$$ \\lambda = \\frac{-D}{4H} \\pm \\sqrt{\\left( \\frac{D}{4H} \\right)^2 - \\frac{\\pi f_N K_E'}{H} } $$\n",
    "\n",
    "The system stability depends on the real part of $\\lambda$. If the real part is negative, the system is stable; otherwise, it is unstable. We can express the eigenvalues by frequency and damping ratio through\n",
    "$$\n",
    "f = \\frac{\\text{Imag}(\\lambda)}{2\\pi}\n",
    "$$\n",
    "\n",
    "$$\n",
    "\\zeta = -\\frac{\\text{Real}(\\lambda)}{|\\lambda|}\n",
    "$$\n",
    "\n",
    "The system is stable if the real part of all eigenvalues is negative. The frequency indicates the oscillation rate, and the damping ratio indicates how quickly the oscillations decay."
   ],
   "id": "6fe3e9ee5ff14eaa"
  },
  {
   "metadata": {
    "ExecuteTime": {
     "end_time": "2025-02-17T12:27:46.900465Z",
     "start_time": "2025-02-17T12:27:46.777547Z"
    }
   },
   "cell_type": "code",
   "source": [
    "#Quick eigenvalues example with D = 10 and H = 10 and F_n = 50 and Ke = 3\n",
    "D = 10\n",
    "H = 5\n",
    "f_N = 50\n",
    "K_E = 3\n",
    "\n",
    "\n",
    "# REGNER UT PÅ FEIL MÅTE EGT\n",
    "lambda1 = (-D/(4*H)) + 1j*np.sqrt(-1*((D/(4*H))**2 - (np.pi*f_N*K_E)/H))\n",
    "lambda2 = (-D/(4*H)) - 1j*np.sqrt(-1*((D/(4*H))**2 - (np.pi*f_N*K_E)/H))\n",
    "\n",
    "print(f'lambda1: {lambda1}')\n",
    "print(f'lambda2: {lambda2}')\n",
    "\n",
    "#plot\n",
    "plt.figure()\n",
    "plt.plot(np.real(lambda1), np.imag(lambda1), 'ro')\n",
    "plt.plot(np.real(lambda2), np.imag(lambda2), 'bo')\n",
    "plt.xlabel('Real')\n",
    "plt.ylabel('Imaginary')\n",
    "plt.title('Eigenvalues')\n",
    "plt.grid()\n",
    "plt.show()\n"
   ],
   "id": "3bf7e8af3cf05ad6",
   "outputs": [
    {
     "name": "stdout",
     "output_type": "stream",
     "text": [
      "lambda1: (-0.5+9.695245206166463j)\n",
      "lambda2: (-0.5-9.695245206166463j)\n"
     ]
    },
    {
     "data": {
      "text/plain": [
       "<Figure size 640x480 with 1 Axes>"
      ],
      "image/png": "[encoded data removed]"
     },
     "metadata": {},
     "output_type": "display_data"
    }
   ],
   "execution_count": 6
  }
 ],
 "metadata": {
  "kernelspec": {
   "display_name": "Python 3",
   "language": "python",
   "name": "python3"
  },
  "language_info": {
   "codemirror_mode": {
    "name": "ipython",
    "version": 3
   },
   "file_extension": ".py",
   "mimetype": "text/x-python",
   "name": "python",
   "nbconvert_exporter": "python",
   "pygments_lexer": "ipython3",
   "version": "3.12.9"
  }
 },
 "nbformat": 4,
 "nbformat_minor": 5
}
